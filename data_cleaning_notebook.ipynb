{
 "cells": [
  {
   "cell_type": "code",
   "execution_count": 1,
   "id": "d234bc75-b310-4de3-8734-323a75bfa2d1",
   "metadata": {},
   "outputs": [],
   "source": [
    "import pandas as pd\n",
    "\n",
    "data = pd.read_csv(\"ClassicHit.csv\")"
   ]
  },
  {
   "cell_type": "code",
   "execution_count": 2,
   "id": "06477f89-4f2a-4295-bdf5-0cb23eec7889",
   "metadata": {},
   "outputs": [
    {
     "name": "stdout",
     "output_type": "stream",
     "text": [
      "                     Track          Artist  Year  Duration  Time_Signature  \\\n",
      "0         Hey Jack Kerouac  10,000 Maniacs  1987    206413               4   \n",
      "1         Like the Weather  10,000 Maniacs  1987    236653               4   \n",
      "2  What's the Matter Here?  10,000 Maniacs  1987    291173               4   \n",
      "3               Trouble Me  10,000 Maniacs  1989    193560               4   \n",
      "4    Candy Everybody Wants  10,000 Maniacs  1992    185960               4   \n",
      "\n",
      "   Danceability  Energy  Key  Loudness  Mode  Speechiness  Acousticness  \\\n",
      "0         0.616   0.511    6   -15.894     1       0.0279       0.03840   \n",
      "1         0.770   0.459    1   -17.453     1       0.0416       0.11200   \n",
      "2         0.593   0.816    9    -7.293     1       0.0410       0.00449   \n",
      "3         0.861   0.385    2   -10.057     1       0.0341       0.15400   \n",
      "4         0.622   0.876   10    -6.310     1       0.0305       0.01930   \n",
      "\n",
      "   Instrumentalness  Liveness  Valence    Tempo  Popularity      Genre  \n",
      "0          0.000000    0.1500    0.604  132.015          40  Alt. Rock  \n",
      "1          0.003430    0.1450    0.963  133.351          43  Alt. Rock  \n",
      "2          0.000032    0.0896    0.519   99.978          12  Alt. Rock  \n",
      "3          0.000000    0.1230    0.494  117.913          47  Alt. Rock  \n",
      "4          0.006840    0.0987    0.867  104.970          43  Alt. Rock  \n"
     ]
    }
   ],
   "source": [
    "# Displaying the first 5 rows of the Dataset \n",
    "print(data.head())"
   ]
  },
  {
   "cell_type": "code",
   "execution_count": 3,
   "id": "8f3ba16d-6abb-4682-a7a5-1baa2714999a",
   "metadata": {},
   "outputs": [
    {
     "name": "stdout",
     "output_type": "stream",
     "text": [
      "Track               0\n",
      "Artist              0\n",
      "Year                0\n",
      "Duration            0\n",
      "Time_Signature      0\n",
      "Danceability        0\n",
      "Energy              0\n",
      "Key                 0\n",
      "Loudness            0\n",
      "Mode                0\n",
      "Speechiness         0\n",
      "Acousticness        0\n",
      "Instrumentalness    0\n",
      "Liveness            0\n",
      "Valence             0\n",
      "Tempo               0\n",
      "Popularity          0\n",
      "Genre               0\n",
      "dtype: int64\n"
     ]
    }
   ],
   "source": [
    "# Checking for null values\n",
    "print(data.isnull().sum())"
   ]
  },
  {
   "cell_type": "code",
   "execution_count": 4,
   "id": "c3531fc4-3acf-416c-91a6-7c7da7b6b555",
   "metadata": {},
   "outputs": [
    {
     "name": "stdout",
     "output_type": "stream",
     "text": [
      "Number of duplicate rows: 1 \n",
      "\n",
      "          Track Artist  Year  Duration  Time_Signature  Danceability  Energy  \\\n",
      "3640  Happy Now   Zedd  2019    207029               3         0.503   0.741   \n",
      "\n",
      "      Key  Loudness  Mode  Speechiness  Acousticness  Instrumentalness  \\\n",
      "3640    4    -5.128     1        0.047         0.579          0.000001   \n",
      "\n",
      "      Liveness  Valence   Tempo  Popularity Genre  \n",
      "3640    0.0712    0.458  88.335          63   EDM  \n"
     ]
    }
   ],
   "source": [
    "# Find duplicate rows. Includes the first occurence\n",
    "duplicate_rows = data[data.duplicated()]\n",
    "\n",
    "# Count the number of duplicates\n",
    "num_duplicates = duplicate_rows.shape[0]\n",
    "\n",
    "# Print the number of duplicates and show actual duplicate rows\n",
    "print(f\"Number of duplicate rows: {num_duplicates} \\n\")\n",
    "if num_duplicates > 0:\n",
    "    print(duplicate_rows)\n"
   ]
  },
  {
   "cell_type": "code",
   "execution_count": 5,
   "id": "0f60a107-beca-47c0-b67d-950636fe6e6e",
   "metadata": {},
   "outputs": [
    {
     "name": "stdout",
     "output_type": "stream",
     "text": [
      "number of duplicates: 0\n"
     ]
    }
   ],
   "source": [
    "# Remove duplicate rows from the DataFrame\n",
    "data = data.drop_duplicates()\n",
    "\n",
    "# Identify any remaining duplicate rows in the DataFrame\n",
    "check_for_duplicates = data[data.duplicated()]\n",
    "\n",
    "# Print the number of duplicate rows found\n",
    "print(f\"number of duplicates: {check_for_duplicates.shape[0]}\")"
   ]
  },
  {
   "cell_type": "code",
   "execution_count": 6,
   "id": "00db9e01-7c3d-43ac-918b-bbf28ccd0c78",
   "metadata": {},
   "outputs": [],
   "source": [
    "# Replace specific values in the 'Genre' column with more descriptive names\n",
    "data[\"Genre\"] = data[\"Genre\"].replace({\n",
    "    'Alt. Rock': 'Alternative Rock',\n",
    "    'World': 'World Music'\n",
    "})\n",
    "\n",
    "# Convert the 'Mode' column to strings and replace numeric values with descriptive names\n",
    "data['Mode'] = data['Mode'].astype(str).replace({\n",
    "    '1': 'major(1)',\n",
    "    '0': 'minor(0)'\n",
    "})\n",
    "\n",
    "# Changing milliseconds to minutes on the 'Duration' column\n",
    "data['Duration'] = (data['Duration']/60000).round(2)\n"
   ]
  },
  {
   "cell_type": "code",
   "execution_count": 7,
   "id": "190ad025-df53-408e-9e02-5ae495dbaa33",
   "metadata": {},
   "outputs": [
    {
     "name": "stdout",
     "output_type": "stream",
     "text": [
      "                     Track          Artist  Year  Duration  Time_Signature  \\\n",
      "0         Hey Jack Kerouac  10,000 Maniacs  1987      3.44               4   \n",
      "1         Like the Weather  10,000 Maniacs  1987      3.94               4   \n",
      "2  What's the Matter Here?  10,000 Maniacs  1987      4.85               4   \n",
      "3               Trouble Me  10,000 Maniacs  1989      3.23               4   \n",
      "4    Candy Everybody Wants  10,000 Maniacs  1992      3.10               4   \n",
      "\n",
      "   Danceability  Energy  Key  Loudness      Mode  Speechiness  Acousticness  \\\n",
      "0         0.616   0.511    6   -15.894  major(1)       0.0279       0.03840   \n",
      "1         0.770   0.459    1   -17.453  major(1)       0.0416       0.11200   \n",
      "2         0.593   0.816    9    -7.293  major(1)       0.0410       0.00449   \n",
      "3         0.861   0.385    2   -10.057  major(1)       0.0341       0.15400   \n",
      "4         0.622   0.876   10    -6.310  major(1)       0.0305       0.01930   \n",
      "\n",
      "   Instrumentalness  Liveness  Valence    Tempo  Popularity             Genre  \n",
      "0          0.000000    0.1500    0.604  132.015          40  Alternative Rock  \n",
      "1          0.003430    0.1450    0.963  133.351          43  Alternative Rock  \n",
      "2          0.000032    0.0896    0.519   99.978          12  Alternative Rock  \n",
      "3          0.000000    0.1230    0.494  117.913          47  Alternative Rock  \n",
      "4          0.006840    0.0987    0.867  104.970          43  Alternative Rock  \n"
     ]
    }
   ],
   "source": [
    "print(data.head())"
   ]
  },
  {
   "cell_type": "code",
   "execution_count": 11,
   "id": "3f8adee0-6224-4d08-9849-720e7a39c5b0",
   "metadata": {},
   "outputs": [
    {
     "ename": "PermissionError",
     "evalue": "[Errno 13] Permission denied: 'ClassicHit_cleaned.csv'",
     "output_type": "error",
     "traceback": [
      "\u001b[1;31m---------------------------------------------------------------------------\u001b[0m",
      "\u001b[1;31mPermissionError\u001b[0m                           Traceback (most recent call last)",
      "Cell \u001b[1;32mIn[11], line 2\u001b[0m\n\u001b[0;32m      1\u001b[0m \u001b[38;5;66;03m# Export DataFrame to CSV\u001b[39;00m\n\u001b[1;32m----> 2\u001b[0m data\u001b[38;5;241m.\u001b[39mto_csv(\u001b[38;5;124m'\u001b[39m\u001b[38;5;124mClassicHit_cleaned.csv\u001b[39m\u001b[38;5;124m'\u001b[39m, index\u001b[38;5;241m=\u001b[39m\u001b[38;5;28;01mFalse\u001b[39;00m)\n",
      "File \u001b[1;32m~\\anaconda3\\Lib\\site-packages\\pandas\\util\\_decorators.py:333\u001b[0m, in \u001b[0;36mdeprecate_nonkeyword_arguments.<locals>.decorate.<locals>.wrapper\u001b[1;34m(*args, **kwargs)\u001b[0m\n\u001b[0;32m    327\u001b[0m \u001b[38;5;28;01mif\u001b[39;00m \u001b[38;5;28mlen\u001b[39m(args) \u001b[38;5;241m>\u001b[39m num_allow_args:\n\u001b[0;32m    328\u001b[0m     warnings\u001b[38;5;241m.\u001b[39mwarn(\n\u001b[0;32m    329\u001b[0m         msg\u001b[38;5;241m.\u001b[39mformat(arguments\u001b[38;5;241m=\u001b[39m_format_argument_list(allow_args)),\n\u001b[0;32m    330\u001b[0m         \u001b[38;5;167;01mFutureWarning\u001b[39;00m,\n\u001b[0;32m    331\u001b[0m         stacklevel\u001b[38;5;241m=\u001b[39mfind_stack_level(),\n\u001b[0;32m    332\u001b[0m     )\n\u001b[1;32m--> 333\u001b[0m \u001b[38;5;28;01mreturn\u001b[39;00m func(\u001b[38;5;241m*\u001b[39margs, \u001b[38;5;241m*\u001b[39m\u001b[38;5;241m*\u001b[39mkwargs)\n",
      "File \u001b[1;32m~\\anaconda3\\Lib\\site-packages\\pandas\\core\\generic.py:3967\u001b[0m, in \u001b[0;36mNDFrame.to_csv\u001b[1;34m(self, path_or_buf, sep, na_rep, float_format, columns, header, index, index_label, mode, encoding, compression, quoting, quotechar, lineterminator, chunksize, date_format, doublequote, escapechar, decimal, errors, storage_options)\u001b[0m\n\u001b[0;32m   3956\u001b[0m df \u001b[38;5;241m=\u001b[39m \u001b[38;5;28mself\u001b[39m \u001b[38;5;28;01mif\u001b[39;00m \u001b[38;5;28misinstance\u001b[39m(\u001b[38;5;28mself\u001b[39m, ABCDataFrame) \u001b[38;5;28;01melse\u001b[39;00m \u001b[38;5;28mself\u001b[39m\u001b[38;5;241m.\u001b[39mto_frame()\n\u001b[0;32m   3958\u001b[0m formatter \u001b[38;5;241m=\u001b[39m DataFrameFormatter(\n\u001b[0;32m   3959\u001b[0m     frame\u001b[38;5;241m=\u001b[39mdf,\n\u001b[0;32m   3960\u001b[0m     header\u001b[38;5;241m=\u001b[39mheader,\n\u001b[1;32m   (...)\u001b[0m\n\u001b[0;32m   3964\u001b[0m     decimal\u001b[38;5;241m=\u001b[39mdecimal,\n\u001b[0;32m   3965\u001b[0m )\n\u001b[1;32m-> 3967\u001b[0m \u001b[38;5;28;01mreturn\u001b[39;00m DataFrameRenderer(formatter)\u001b[38;5;241m.\u001b[39mto_csv(\n\u001b[0;32m   3968\u001b[0m     path_or_buf,\n\u001b[0;32m   3969\u001b[0m     lineterminator\u001b[38;5;241m=\u001b[39mlineterminator,\n\u001b[0;32m   3970\u001b[0m     sep\u001b[38;5;241m=\u001b[39msep,\n\u001b[0;32m   3971\u001b[0m     encoding\u001b[38;5;241m=\u001b[39mencoding,\n\u001b[0;32m   3972\u001b[0m     errors\u001b[38;5;241m=\u001b[39merrors,\n\u001b[0;32m   3973\u001b[0m     compression\u001b[38;5;241m=\u001b[39mcompression,\n\u001b[0;32m   3974\u001b[0m     quoting\u001b[38;5;241m=\u001b[39mquoting,\n\u001b[0;32m   3975\u001b[0m     columns\u001b[38;5;241m=\u001b[39mcolumns,\n\u001b[0;32m   3976\u001b[0m     index_label\u001b[38;5;241m=\u001b[39mindex_label,\n\u001b[0;32m   3977\u001b[0m     mode\u001b[38;5;241m=\u001b[39mmode,\n\u001b[0;32m   3978\u001b[0m     chunksize\u001b[38;5;241m=\u001b[39mchunksize,\n\u001b[0;32m   3979\u001b[0m     quotechar\u001b[38;5;241m=\u001b[39mquotechar,\n\u001b[0;32m   3980\u001b[0m     date_format\u001b[38;5;241m=\u001b[39mdate_format,\n\u001b[0;32m   3981\u001b[0m     doublequote\u001b[38;5;241m=\u001b[39mdoublequote,\n\u001b[0;32m   3982\u001b[0m     escapechar\u001b[38;5;241m=\u001b[39mescapechar,\n\u001b[0;32m   3983\u001b[0m     storage_options\u001b[38;5;241m=\u001b[39mstorage_options,\n\u001b[0;32m   3984\u001b[0m )\n",
      "File \u001b[1;32m~\\anaconda3\\Lib\\site-packages\\pandas\\io\\formats\\format.py:1014\u001b[0m, in \u001b[0;36mDataFrameRenderer.to_csv\u001b[1;34m(self, path_or_buf, encoding, sep, columns, index_label, mode, compression, quoting, quotechar, lineterminator, chunksize, date_format, doublequote, escapechar, errors, storage_options)\u001b[0m\n\u001b[0;32m    993\u001b[0m     created_buffer \u001b[38;5;241m=\u001b[39m \u001b[38;5;28;01mFalse\u001b[39;00m\n\u001b[0;32m    995\u001b[0m csv_formatter \u001b[38;5;241m=\u001b[39m CSVFormatter(\n\u001b[0;32m    996\u001b[0m     path_or_buf\u001b[38;5;241m=\u001b[39mpath_or_buf,\n\u001b[0;32m    997\u001b[0m     lineterminator\u001b[38;5;241m=\u001b[39mlineterminator,\n\u001b[1;32m   (...)\u001b[0m\n\u001b[0;32m   1012\u001b[0m     formatter\u001b[38;5;241m=\u001b[39m\u001b[38;5;28mself\u001b[39m\u001b[38;5;241m.\u001b[39mfmt,\n\u001b[0;32m   1013\u001b[0m )\n\u001b[1;32m-> 1014\u001b[0m csv_formatter\u001b[38;5;241m.\u001b[39msave()\n\u001b[0;32m   1016\u001b[0m \u001b[38;5;28;01mif\u001b[39;00m created_buffer:\n\u001b[0;32m   1017\u001b[0m     \u001b[38;5;28;01massert\u001b[39;00m \u001b[38;5;28misinstance\u001b[39m(path_or_buf, StringIO)\n",
      "File \u001b[1;32m~\\anaconda3\\Lib\\site-packages\\pandas\\io\\formats\\csvs.py:251\u001b[0m, in \u001b[0;36mCSVFormatter.save\u001b[1;34m(self)\u001b[0m\n\u001b[0;32m    247\u001b[0m \u001b[38;5;250m\u001b[39m\u001b[38;5;124;03m\"\"\"\u001b[39;00m\n\u001b[0;32m    248\u001b[0m \u001b[38;5;124;03mCreate the writer & save.\u001b[39;00m\n\u001b[0;32m    249\u001b[0m \u001b[38;5;124;03m\"\"\"\u001b[39;00m\n\u001b[0;32m    250\u001b[0m \u001b[38;5;66;03m# apply compression and byte/text conversion\u001b[39;00m\n\u001b[1;32m--> 251\u001b[0m \u001b[38;5;28;01mwith\u001b[39;00m get_handle(\n\u001b[0;32m    252\u001b[0m     \u001b[38;5;28mself\u001b[39m\u001b[38;5;241m.\u001b[39mfilepath_or_buffer,\n\u001b[0;32m    253\u001b[0m     \u001b[38;5;28mself\u001b[39m\u001b[38;5;241m.\u001b[39mmode,\n\u001b[0;32m    254\u001b[0m     encoding\u001b[38;5;241m=\u001b[39m\u001b[38;5;28mself\u001b[39m\u001b[38;5;241m.\u001b[39mencoding,\n\u001b[0;32m    255\u001b[0m     errors\u001b[38;5;241m=\u001b[39m\u001b[38;5;28mself\u001b[39m\u001b[38;5;241m.\u001b[39merrors,\n\u001b[0;32m    256\u001b[0m     compression\u001b[38;5;241m=\u001b[39m\u001b[38;5;28mself\u001b[39m\u001b[38;5;241m.\u001b[39mcompression,\n\u001b[0;32m    257\u001b[0m     storage_options\u001b[38;5;241m=\u001b[39m\u001b[38;5;28mself\u001b[39m\u001b[38;5;241m.\u001b[39mstorage_options,\n\u001b[0;32m    258\u001b[0m ) \u001b[38;5;28;01mas\u001b[39;00m handles:\n\u001b[0;32m    259\u001b[0m     \u001b[38;5;66;03m# Note: self.encoding is irrelevant here\u001b[39;00m\n\u001b[0;32m    260\u001b[0m     \u001b[38;5;28mself\u001b[39m\u001b[38;5;241m.\u001b[39mwriter \u001b[38;5;241m=\u001b[39m csvlib\u001b[38;5;241m.\u001b[39mwriter(\n\u001b[0;32m    261\u001b[0m         handles\u001b[38;5;241m.\u001b[39mhandle,\n\u001b[0;32m    262\u001b[0m         lineterminator\u001b[38;5;241m=\u001b[39m\u001b[38;5;28mself\u001b[39m\u001b[38;5;241m.\u001b[39mlineterminator,\n\u001b[1;32m   (...)\u001b[0m\n\u001b[0;32m    267\u001b[0m         quotechar\u001b[38;5;241m=\u001b[39m\u001b[38;5;28mself\u001b[39m\u001b[38;5;241m.\u001b[39mquotechar,\n\u001b[0;32m    268\u001b[0m     )\n\u001b[0;32m    270\u001b[0m     \u001b[38;5;28mself\u001b[39m\u001b[38;5;241m.\u001b[39m_save()\n",
      "File \u001b[1;32m~\\anaconda3\\Lib\\site-packages\\pandas\\io\\common.py:873\u001b[0m, in \u001b[0;36mget_handle\u001b[1;34m(path_or_buf, mode, encoding, compression, memory_map, is_text, errors, storage_options)\u001b[0m\n\u001b[0;32m    868\u001b[0m \u001b[38;5;28;01melif\u001b[39;00m \u001b[38;5;28misinstance\u001b[39m(handle, \u001b[38;5;28mstr\u001b[39m):\n\u001b[0;32m    869\u001b[0m     \u001b[38;5;66;03m# Check whether the filename is to be opened in binary mode.\u001b[39;00m\n\u001b[0;32m    870\u001b[0m     \u001b[38;5;66;03m# Binary mode does not support 'encoding' and 'newline'.\u001b[39;00m\n\u001b[0;32m    871\u001b[0m     \u001b[38;5;28;01mif\u001b[39;00m ioargs\u001b[38;5;241m.\u001b[39mencoding \u001b[38;5;129;01mand\u001b[39;00m \u001b[38;5;124m\"\u001b[39m\u001b[38;5;124mb\u001b[39m\u001b[38;5;124m\"\u001b[39m \u001b[38;5;129;01mnot\u001b[39;00m \u001b[38;5;129;01min\u001b[39;00m ioargs\u001b[38;5;241m.\u001b[39mmode:\n\u001b[0;32m    872\u001b[0m         \u001b[38;5;66;03m# Encoding\u001b[39;00m\n\u001b[1;32m--> 873\u001b[0m         handle \u001b[38;5;241m=\u001b[39m \u001b[38;5;28mopen\u001b[39m(\n\u001b[0;32m    874\u001b[0m             handle,\n\u001b[0;32m    875\u001b[0m             ioargs\u001b[38;5;241m.\u001b[39mmode,\n\u001b[0;32m    876\u001b[0m             encoding\u001b[38;5;241m=\u001b[39mioargs\u001b[38;5;241m.\u001b[39mencoding,\n\u001b[0;32m    877\u001b[0m             errors\u001b[38;5;241m=\u001b[39merrors,\n\u001b[0;32m    878\u001b[0m             newline\u001b[38;5;241m=\u001b[39m\u001b[38;5;124m\"\u001b[39m\u001b[38;5;124m\"\u001b[39m,\n\u001b[0;32m    879\u001b[0m         )\n\u001b[0;32m    880\u001b[0m     \u001b[38;5;28;01melse\u001b[39;00m:\n\u001b[0;32m    881\u001b[0m         \u001b[38;5;66;03m# Binary mode\u001b[39;00m\n\u001b[0;32m    882\u001b[0m         handle \u001b[38;5;241m=\u001b[39m \u001b[38;5;28mopen\u001b[39m(handle, ioargs\u001b[38;5;241m.\u001b[39mmode)\n",
      "\u001b[1;31mPermissionError\u001b[0m: [Errno 13] Permission denied: 'ClassicHit_cleaned.csv'"
     ]
    }
   ],
   "source": [
    "# Export DataFrame to CSV\n",
    "# data.to_csv('ClassicHit_cleaned.csv', index=False)"
   ]
  },
  {
   "cell_type": "code",
   "execution_count": null,
   "id": "5d4d4e4c-499e-409c-b0ac-8b364aadca30",
   "metadata": {},
   "outputs": [],
   "source": []
  }
 ],
 "metadata": {
  "kernelspec": {
   "display_name": "Python 3 (ipykernel)",
   "language": "python",
   "name": "python3"
  },
  "language_info": {
   "codemirror_mode": {
    "name": "ipython",
    "version": 3
   },
   "file_extension": ".py",
   "mimetype": "text/x-python",
   "name": "python",
   "nbconvert_exporter": "python",
   "pygments_lexer": "ipython3",
   "version": "3.12.4"
  }
 },
 "nbformat": 4,
 "nbformat_minor": 5
}
